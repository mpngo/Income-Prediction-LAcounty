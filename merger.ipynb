{
 "cells": [
  {
   "cell_type": "code",
   "execution_count": 7,
   "id": "c4a87ffa-7180-49f8-8ce4-94548789b2e1",
   "metadata": {},
   "outputs": [
    {
     "name": "stdout",
     "output_type": "stream",
     "text": [
      "Processed total_pop2020.csv\n",
      "Processed median_income_all.csv\n",
      "Processed tax.csv\n",
      "Processed household_info.csv\n",
      "Processed employment.csv\n",
      "Processed education.csv\n",
      "Processed age_dist.csv\n"
     ]
    }
   ],
   "source": [
    "import pandas as pd\n",
    "import os\n",
    "\n",
    "csv_files = [\n",
    "    r\"C:\\Users\\pminh\\OneDrive\\Desktop\\STA160 DATA\\total_pop2020.csv\",\n",
    "    r\"C:\\Users\\pminh\\OneDrive\\Desktop\\STA160 DATA\\median_income_all.csv\",\n",
    "    r\"C:\\Users\\pminh\\OneDrive\\Desktop\\STA160 DATA\\tax.csv\",\n",
    "    r\"C:\\Users\\pminh\\OneDrive\\Desktop\\STA160 DATA\\household_info.csv\",\n",
    "    r\"C:\\Users\\pminh\\OneDrive\\Desktop\\STA160 DATA\\employment.csv\",\n",
    "    r\"C:\\Users\\pminh\\OneDrive\\Desktop\\STA160 DATA\\education.csv\",\n",
    "    r\"C:\\Users\\pminh\\OneDrive\\Desktop\\STA160 DATA\\age_dist.csv\"\n",
    "]\n",
    "\n",
    "def remove_trailing_whitespace(file_path):\n",
    "    with open(file_path, 'r') as file:\n",
    "        lines = file.readlines()\n",
    "        \n",
    "    # Strip trailing whitespace from each line\n",
    "    stripped_lines = [line.rstrip() + '\\n' for line in lines]\n",
    "    \n",
    "    # Write back the stripped lines to the file\n",
    "    with open(file_path, 'w') as file:\n",
    "        file.writelines(stripped_lines)\n",
    "\n",
    "# Apply the function to each file in csv_files\n",
    "for file_path in csv_files:\n",
    "    remove_trailing_whitespace(file_path)\n",
    "    print(f\"Processed {os.path.basename(file_path)}\")"
   ]
  },
  {
   "cell_type": "code",
   "execution_count": 9,
   "id": "2d96c5d6-8b7e-4d3d-badd-d2a6f03af5d3",
   "metadata": {},
   "outputs": [],
   "source": [
    "# Read the first file to initialize the base DataFrame\n",
    "merged_df = pd.read_csv(csv_files[0])\n",
    "\n",
    "# Loop through the remaining files and merge based on the 'Name' column\n",
    "for file in csv_files[1:]:\n",
    "    df = pd.read_csv(file)\n",
    "    # Merge with the base DataFrame on 'Name'\n",
    "    merged_df = pd.merge(merged_df, df, on=\"City\", how=\"inner\")  # Use 'outer' for full join if needed\n",
    "\n",
    "# Save the final merged DataFrame to a new CSV file\n",
    "merged_df.to_csv(\"merged_output.csv\", index=False)"
   ]
  },
  {
   "cell_type": "code",
   "execution_count": null,
   "id": "eb4c61b6-4e2d-415e-9be7-a0b8ab7ed4f8",
   "metadata": {},
   "outputs": [],
   "source": []
  }
 ],
 "metadata": {
  "kernelspec": {
   "display_name": "Python 3 (ipykernel)",
   "language": "python",
   "name": "python3"
  },
  "language_info": {
   "codemirror_mode": {
    "name": "ipython",
    "version": 3
   },
   "file_extension": ".py",
   "mimetype": "text/x-python",
   "name": "python",
   "nbconvert_exporter": "python",
   "pygments_lexer": "ipython3",
   "version": "3.12.4"
  }
 },
 "nbformat": 4,
 "nbformat_minor": 5
}
